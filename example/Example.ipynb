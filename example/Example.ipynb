{
 "cells": [
  {
   "cell_type": "code",
   "execution_count": 1,
   "metadata": {},
   "outputs": [],
   "source": [
    "from sklearn import datasets\n",
    "from sklearn.svm import SVC\n",
    "from sklearn.model_selection import cross_val_score\n",
    "from sklearn.preprocessing import StandardScaler\n",
    "from sklearn.ensemble  import RandomForestClassifier\n",
    "from mipego4ml.ConditionalSpace import ConditionalSpace\n",
    "from mipego4ml.ConfigSpace import ConfigSpace\n",
    "from mipego4ml.mipego.SearchSpace import ContinuousSpace, NominalSpace, OrdinalSpace\n",
    "from mipego4ml.mipego4ML import mipego4ML\n",
    "import warnings\n",
    "warnings.filterwarnings(\"ignore\")"
   ]
  },
  {
   "cell_type": "markdown",
   "metadata": {},
   "source": [
    "# Define Configuration Space"
   ]
  },
  {
   "cell_type": "code",
   "execution_count": 3,
   "metadata": {},
   "outputs": [],
   "source": [
    "#define Configuration space\n",
    "search_space = ConfigSpace()\n",
    "\n",
    "#Define Search Space\n",
    "alg_namestr = NominalSpace([\"SVM\", \"RF\"], \"alg_namestr\")\n",
    "\n",
    "#Define Search Space for Support Vector Machine\n",
    "kernel = NominalSpace([\"linear\", \"rbf\", \"poly\", \"sigmoid\"], \"kernel\")\n",
    "C = ContinuousSpace([1e-2, 100], \"C\")\n",
    "degree = OrdinalSpace([1, 5], 'degree')\n",
    "coef0 = ContinuousSpace([0.0, 10.0], 'coef0') \n",
    "gamma = ContinuousSpace([0, 20], 'gamma')\n",
    "# Define Search Space for Random Forest\n",
    "n_estimators = OrdinalSpace([5, 100], \"n_estimators\")\n",
    "criterion = NominalSpace([\"gini\", \"entropy\"], \"criterion\")\n",
    "max_depth = OrdinalSpace([10, 200], \"max_depth\")\n",
    "max_features = NominalSpace(['auto', 'sqrt', 'log2'], \"max_features\")\n",
    "\n",
    "# Add Search space to Configuraion Space\n",
    "search_space.add_multiparameter([alg_namestr, kernel, C, degree, coef0, gamma\n",
    "                                        , n_estimators, criterion, max_depth, max_features])\n",
    "#Define conditional Space\n",
    "con = ConditionalSpace(\"conditional\")\n",
    "con.addMutilConditional([kernel, C, degree, coef0, gamma,], alg_namestr, \"SVM\")\n",
    "con.addMutilConditional([n_estimators,criterion,max_depth,max_features],alg_namestr,\"RF\")"
   ]
  },
  {
   "cell_type": "markdown",
   "metadata": {},
   "source": [
    "# Objective Function"
   ]
  },
  {
   "cell_type": "code",
   "execution_count": 4,
   "metadata": {},
   "outputs": [],
   "source": [
    "iris = datasets.load_iris()\n",
    "X = iris.data\n",
    "y = iris.target\n",
    "\n",
    "def obj_func(params):\n",
    "    params = {k : params[k] for k in params if params[k]}\n",
    "    #print(params)\n",
    "    classifier = params['alg_namestr']\n",
    "    params.pop(\"alg_namestr\", None)    \n",
    "    #print(params)\n",
    "    clf = SVC()\n",
    "    if(classifier == 'SVM'):\n",
    "        clf = SVC(**params)\n",
    "    elif(classifier == 'RF'):\n",
    "        clf = RandomForestClassifier(**params)\n",
    "    mean= cross_val_score(clf, X, y).mean()\n",
    "    loss = 1 - mean\n",
    "    #print (mean)\n",
    "    return loss\n"
   ]
  },
  {
   "cell_type": "markdown",
   "metadata": {},
   "source": [
    "# Run Optimise "
   ]
  },
  {
   "cell_type": "code",
   "execution_count": 7,
   "metadata": {},
   "outputs": [
    {
     "name": "stdout",
     "output_type": "stream",
     "text": [
      "The  1  round, Runing: 2 Candidates\n",
      "previous best loss was: 0.02614379084967322 of 0\n",
      "previous best loss was: 0.02614379084967322 of 1\n",
      "The  2  round, Runing: 1 Candidates\n",
      "previous best loss was: 0.02614379084967322 of 0\n",
      "Best Value: 0.020016339869281086\n"
     ]
    }
   ],
   "source": [
    "opt = mipego4ML(search_space, con, obj_func, minimize=True,  # the problem is a minimization problem.\n",
    "                max_eval=100,  # we evaluate maximum 100 times\n",
    "                max_iter=100,  # we have max 100 iterations\n",
    "                infill='EI',  # Expected improvement as criteria\n",
    "                n_init_sample=10,  # We start with 10 initial samples\n",
    "                n_point=1,  # We evaluate every iteration 1 time\n",
    "                n_job=1,  # with 1 process (job).\n",
    "                optimizer='MIES',  # We use the MIES internal optimizer.\n",
    "                verbose=False, random_seed=None)\n",
    "\n",
    "incumbent, best_value = opt.run()\n",
    "print(\"Best Value:\", best_value)"
   ]
  }
 ],
 "metadata": {
  "kernelspec": {
   "display_name": "Python 3",
   "language": "python",
   "name": "python3"
  },
  "language_info": {
   "codemirror_mode": {
    "name": "ipython",
    "version": 3
   },
   "file_extension": ".py",
   "mimetype": "text/x-python",
   "name": "python",
   "nbconvert_exporter": "python",
   "pygments_lexer": "ipython3",
   "version": "3.5.3"
  }
 },
 "nbformat": 4,
 "nbformat_minor": 2
}
